{
 "cells": [
  {
   "cell_type": "markdown",
   "metadata": {},
   "source": [
    "<title> Investigations on Condition Number </title>"
   ]
  },
  {
   "cell_type": "markdown",
   "metadata": {},
   "source": [
    "<title> Code to Test Effect Of Conditional Number </title>"
   ]
  },
  {
   "cell_type": "code",
   "execution_count": 36,
   "metadata": {},
   "outputs": [],
   "source": [
    "import numpy as np\n",
    "import matplotlib.pyplot as plt\n",
    "%matplotlib inline"
   ]
  },
  {
   "cell_type": "code",
   "execution_count": 37,
   "metadata": {},
   "outputs": [],
   "source": [
    "SEED = 45\n",
    "N_ROWS = 30 # only square matrices have cond number\n"
   ]
  },
  {
   "cell_type": "markdown",
   "metadata": {},
   "source": [
    "Let's create a random matrix A and evaulate its condition number"
   ]
  },
  {
   "cell_type": "code",
   "execution_count": 38,
   "metadata": {},
   "outputs": [
    {
     "name": "stdout",
     "output_type": "stream",
     "text": [
      "Condition Number (k): 192.5388248134272\n"
     ]
    }
   ],
   "source": [
    "np.random.seed(SEED)\n",
    "A = np.random.rand(N_ROWS,N_ROWS)\n",
    "cond_a = np.linalg.cond(A)\n",
    "print(f'Condition Number (k): {cond_a}')"
   ]
  },
  {
   "cell_type": "markdown",
   "metadata": {},
   "source": [
    "This is a good condition number, k >>1 but k << inf.\n",
    "We know that k = 1 for orthogonal columns and k = inf for dependent columns (these identities don't change with scaling).\n",
    "Here we are interested in the non-asymptotic cases."
   ]
  },
  {
   "cell_type": "markdown",
   "metadata": {},
   "source": [
    "Now we scale an arbitrary row of A with a sequence of scaling factors and see how the condition number of A changes."
   ]
  },
  {
   "cell_type": "code",
   "execution_count": 39,
   "metadata": {},
   "outputs": [],
   "source": [
    "scaling_constants = [_/10 for _ in range(1001)]  # [0,0, 0.1 ... 99.9, 100]\n",
    "column_to_scale = 0  # can be changed or generalized to multiple rows\n",
    "condition_numbers = []\n",
    "for scaling_const in scaling_constants:\n",
    "    # create scaling operator\n",
    "    scale_op = np.identity(N_ROWS)\n",
    "    scale_op[column_to_scale, column_to_scale] = scaling_const\n",
    "    \n",
    "    # scale A\n",
    "    # reversing the order scales the row. This scales column.\n",
    "    scaled_A = np.dot(A, scale_op)  \n",
    "    condition_numbers.append(np.linalg.cond(scaled_A))\n"
   ]
  },
  {
   "cell_type": "markdown",
   "metadata": {},
   "source": [
    "Let's plot the change of condition number with scaling constant"
   ]
  },
  {
   "cell_type": "code",
   "execution_count": 40,
   "metadata": {},
   "outputs": [
    {
     "data": {
      "text/plain": [
       "<matplotlib.legend.Legend at 0x27958110c88>"
      ]
     },
     "execution_count": 40,
     "metadata": {},
     "output_type": "execute_result"
    },
    {
     "data": {
      "image/png": "[encoded data removed]",
      "text/plain": [
       "<Figure size 432x288 with 1 Axes>"
      ]
     },
     "metadata": {
      "needs_background": "light"
     },
     "output_type": "display_data"
    }
   ],
   "source": [
    "plt.plot(\n",
    "    scaling_constants, \n",
    "    condition_numbers, \n",
    "    c='r', \n",
    "    label='k(Scaled A)')\n",
    "plt.xlabel('Scaling Constant', fontsize=20)\n",
    "plt.ylabel('Condition Number', fontsize=20)\n",
    "plt.hlines(\n",
    "    y=cond_a, \n",
    "    xmin=min(scaling_constants), \n",
    "    xmax=max(scaling_constants), \n",
    "    label='k(A)')\n",
    "plt.legend(loc='upper center')"
   ]
  },
  {
   "cell_type": "raw",
   "metadata": {},
   "source": [
    "It appears that scaling a single row (linearly) scales the condition number.\n",
    "The condition number is bounded on the lower end by the condition number of (unscaled) A.\n",
    "A way to interpret this is any processing on A which is multiplicative causes its information content to decrease."
   ]
  }
 ],
 "metadata": {
  "kernelspec": {
   "display_name": "Python 3",
   "language": "python",
   "name": "python3"
  },
  "language_info": {
   "codemirror_mode": {
    "name": "ipython",
    "version": 3
   },
   "file_extension": ".py",
   "mimetype": "text/x-python",
   "name": "python",
   "nbconvert_exporter": "python",
   "pygments_lexer": "ipython3",
   "version": "3.7.6"
  }
 },
 "nbformat": 4,
 "nbformat_minor": 2
}
